{
 "cells": [
  {
   "cell_type": "markdown",
   "id": "073128fe-3427-438e-bd15-7084776f892b",
   "metadata": {},
   "source": [
    "# M1S1  - Python Installation and Setup"
   ]
  },
  {
   "cell_type": "markdown",
   "id": "d9afb260-e81a-40c3-b7be-40ec131e8bf6",
   "metadata": {},
   "source": [
    "### 1.\tWrite a program to display \"Hello, World!\" on the screen."
   ]
  },
  {
   "cell_type": "code",
   "execution_count": 5,
   "id": "6fe63f99-3daf-4c4a-b889-dba1cc8dd36b",
   "metadata": {},
   "outputs": [
    {
     "name": "stdout",
     "output_type": "stream",
     "text": [
      "Hello world!\n"
     ]
    }
   ],
   "source": [
    "print('Hello world!')"
   ]
  },
  {
   "cell_type": "markdown",
   "id": "47772458-832c-4e8a-848b-a94f52ea4014",
   "metadata": {},
   "source": [
    "### 2.\tAdd comments to explain the code you write."
   ]
  },
  {
   "cell_type": "code",
   "execution_count": 7,
   "id": "d8dc8087-30bf-4156-a0f8-b1f12393e195",
   "metadata": {},
   "outputs": [
    {
     "name": "stdout",
     "output_type": "stream",
     "text": [
      "Hello, World!\n"
     ]
    }
   ],
   "source": [
    "# This is single lines \n",
    "\n",
    "\"\"\"\n",
    "This is a comment\n",
    "written in\n",
    "more than just one line\n",
    "\"\"\"\n",
    "print(\"Hello, World!\")"
   ]
  },
  {
   "cell_type": "code",
   "execution_count": null,
   "id": "590d9fd2-58bf-4f03-a3f9-2bb0826a0e52",
   "metadata": {},
   "outputs": [],
   "source": []
  }
 ],
 "metadata": {
  "kernelspec": {
   "display_name": "Python 3 (ipykernel)",
   "language": "python",
   "name": "python3"
  },
  "language_info": {
   "codemirror_mode": {
    "name": "ipython",
    "version": 3
   },
   "file_extension": ".py",
   "mimetype": "text/x-python",
   "name": "python",
   "nbconvert_exporter": "python",
   "pygments_lexer": "ipython3",
   "version": "3.12.1"
  }
 },
 "nbformat": 4,
 "nbformat_minor": 5
}
